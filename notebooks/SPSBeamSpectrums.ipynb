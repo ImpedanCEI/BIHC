{
 "cells": [
  {
   "cell_type": "code",
   "execution_count": null,
   "id": "1f1e8103",
   "metadata": {},
   "outputs": [],
   "source": [
    "import numpy as np\n",
    "import matplotlib.pyplot as plt\n",
    "import bihc\n",
    "\n",
    "# Plot parameters [OPTIONAL]\n",
    "import matplotlib as mpl\n",
    "import scienceplots\n",
    "\n",
    "plt.style.use(['science','ieee', 'no-latex'])\n",
    "mpl.rcParams['figure.dpi'] = 160\n",
    "mpl.rcParams['font.size'] = 16\n",
    "\n",
    "%matplotlib inline"
   ]
  },
  {
   "cell_type": "markdown",
   "id": "5d8b8529",
   "metadata": {},
   "source": [
    "## Beam generation"
   ]
  },
  {
   "cell_type": "code",
   "execution_count": null,
   "id": "a2edc242",
   "metadata": {},
   "outputs": [],
   "source": [
    "# User defined filling scheme\n",
    "def fillingSchemeSPS(nbunches=72, ntrains=4):\n",
    "    '''\n",
    "    Returns the filling scheme for the SPS\n",
    "\n",
    "    Parameters\n",
    "    ----------\n",
    "    ntrains: number of injections (batches)\n",
    "    '''\n",
    "    # Define filling scheme: parameters\n",
    "    #ntrains = 4 # number of trains/batches\n",
    "    nslots = 924 # Defining total number of slots for SPS\n",
    "    #nbunches = 72 # Defining a number of bunchs e.g. 18, 36, 72.. \n",
    "    batchspacing = 9 # Batch spacing in 25 ns slots 45/5\n",
    "\n",
    "    # Defining the trains as lists of True/Falses\n",
    "    bt = [True]*nbunches\n",
    "    st = [False]*batchspacing\n",
    "    sc = [False]*(nslots - (nbunches+batchspacing)*ntrains)\n",
    "    an = (bt + st)*ntrains + sc\n",
    "\n",
    "    return an"
   ]
  },
  {
   "cell_type": "markdown",
   "id": "df3bbf91",
   "metadata": {},
   "source": [
    "### SPS operational beam (LHC3 as of 2025)\n",
    "* Used to fill the LHC\n",
    "* 4 trains of 36 bunches\n",
    "* Intensity per bunch: 1.8e11 ppb (max)\n",
    "* bunch length: 1.65 ns +- 10% @ Flat top energy\n",
    "* Shape: gaussian or q-gaussian (q~1)"
   ]
  },
  {
   "cell_type": "code",
   "execution_count": null,
   "id": "74c94261",
   "metadata": {},
   "outputs": [],
   "source": [
    "# Beam of typical OPERATIONAL\n",
    "fillingScheme = fillingSchemeSPS(nbunches=36, ntrains=4)\n",
    "bl = 1.65e-9                 # bunch length [s]\n",
    "Np = 1.8e11                  # bunch intensity [protons/bunch]\n",
    "bunchShape = 'q-GAUSSIAN'    # bunch profile shape in time \n",
    "qvalue = 0.95                # value of q parameter in the q-gaussian distribution\n",
    "fillMode = 'FLATTOP'         # Energy\n",
    "fmax = 3.5e9                  # Maximum frequency of the beam spectrum [Hz]\n",
    "\n",
    "beam_op = bihc.Beam(Np=Np, bunchLength=bl, fillingScheme=fillingScheme,\n",
    "                bunchShape=bunchShape, qvalue=qvalue, \n",
    "                machine='SPS', fillMode=fillMode, spectrum='numeric', fmax=fmax)\n",
    "Nb_op = Np*sum(fillingScheme)"
   ]
  },
  {
   "cell_type": "markdown",
   "id": "a1318aca",
   "metadata": {},
   "source": [
    "### SPS Standard (LHC25ns)\n",
    "* Used during High Intensity studies (MDs)\n",
    "* 4 trains of 72 bunches (standard variant)\n",
    "* Intensity per bunch: 2.3e11 ppb\n",
    "* bunch length: 1.65 ns +- 10% @ Flat top energy\n",
    "* Shape: q-gaussian (q<1)"
   ]
  },
  {
   "cell_type": "code",
   "execution_count": null,
   "id": "394457d7",
   "metadata": {},
   "outputs": [],
   "source": [
    "# Beam of typical OPERATIONAL\n",
    "fillingScheme = fillingSchemeSPS(nbunches=72, ntrains=4)\n",
    "bl = 1.6e-9                 # bunch length [s]\n",
    "Np = 2.3e11                  # bunch intensity [protons/bunch]\n",
    "bunchShape = 'q-GAUSSIAN'    # bunch profile shape in time \n",
    "qvalue = 0.9                # value of q parameter in the q-gaussian distribution\n",
    "fillMode = 'FLATTOP'         # Energy\n",
    "fmax = 3.5e9                  # Maximum frequency of the beam spectrum [Hz]\n",
    "\n",
    "beam_lhc25 = bihc.Beam(Np=Np, bunchLength=bl, fillingScheme=fillingScheme,\n",
    "                bunchShape=bunchShape, qvalue=qvalue, \n",
    "                machine='SPS', fillMode=fillMode, spectrum='numeric', fmax=fmax)\n",
    "\n",
    "Nb_lhc25 = Np*sum(fillingScheme)"
   ]
  },
  {
   "cell_type": "markdown",
   "id": "b8113a0e",
   "metadata": {},
   "source": [
    "### SPS Awake \n",
    "* Single bunch\n",
    "* Intensity per bunch: 3e11 (2025) -> 4e11 after LS3\n",
    "* bunch length:\n",
    "  * 4 ns @ injection, shape gaussian\n",
    "  * 1.5 ns @ flat top without bunch rotation, shape q-gaussian (q<1)\n",
    "  * 0.8 ns @ flat top after bunch rotation, shape parabolic or q-gaussian with low q"
   ]
  },
  {
   "cell_type": "code",
   "execution_count": null,
   "id": "04d5c0c0",
   "metadata": {},
   "outputs": [],
   "source": [
    "# Beam before rotation (extraction)\n",
    "fillingScheme = fillingSchemeSPS(nbunches=1, ntrains=1)\n",
    "bl = 1.5e-9                # bunch length [s]\n",
    "Np = 4e11                  # bunch intensity [protons/bunch]\n",
    "bunchShape = 'q-GAUSSIAN'    # bunch profile shape in time \n",
    "qvalue = 0.85                  # value of q parameter in the q-gaussian distribution\n",
    "fillMode = 'FLATTOP'        # Energy\n",
    "fmax = 3.5e9                  # Maximum frequency of the beam powerpowerpowerpowerSpectrum [Hz]\n",
    "\n",
    "beam_aw = bihc.Beam(Np=Np, bunchLength=bl, fillingScheme=fillingScheme,\n",
    "                bunchShape=bunchShape, qvalue=qvalue, \n",
    "                machine='SPS', fillMode=fillMode, spectrum='numeric', fmax=fmax)\n",
    "\n",
    "Nb_aw = Np*sum(fillingScheme)"
   ]
  },
  {
   "cell_type": "code",
   "execution_count": null,
   "id": "cf879958",
   "metadata": {},
   "outputs": [],
   "source": [
    "# Beam after rotation (extraction)\n",
    "fillingScheme = fillingSchemeSPS(nbunches=1, ntrains=1)\n",
    "bl = 0.8e-9                # bunch length [s]\n",
    "Np = 4e11                  # bunch intensity [protons/bunch]\n",
    "bunchShape = 'q-GAUSSIAN'    # bunch profile shape in time \n",
    "qvalue = 0.6                  # value of q parameter in the q-gaussian distribution\n",
    "fillMode = 'FLATTOP'        # Energy\n",
    "fmax = 3.5e9                  # Maximum frequency of the beam powerpowerpowerpowerpowerpowerpowerpowerpowerSpectrum [Hz]\n",
    "\n",
    "beam_aw_ex = bihc.Beam(Np=Np, bunchLength=bl, fillingScheme=fillingScheme,\n",
    "                bunchShape=bunchShape, qvalue=qvalue, \n",
    "                machine='SPS', fillMode=fillMode, spectrum='numeric', fmax=fmax)\n",
    "\n",
    "Nb_aw_ex = Np*sum(fillingScheme)"
   ]
  },
  {
   "cell_type": "markdown",
   "id": "3c0b8b4d",
   "metadata": {},
   "source": [
    "### SPS SFTPRO beams\n",
    "* 4200 bunches in 5ns slots\n",
    "* Intensity per bunch: 1e10 ppb (2022) -> 11.91e9 ppb (after LS3)\n",
    "  * Total intensity: 4.2e13 p (2022)m 5e13 p (after LS3)\n",
    "* Bunch length: 1 ns @ flat top energy, shape parabolic or q-gaussian with low q     "
   ]
  },
  {
   "cell_type": "code",
   "execution_count": null,
   "id": "918de7a1",
   "metadata": {},
   "outputs": [],
   "source": [
    "# Beam SFTPRO filling scheme: generated from measurement using SPS FBCT\n",
    "import datascout as ds # check docs for installation through acc-py\n",
    "\n",
    "data = ds.parquet_to_dict('BGI/SFTPRO_2024.10.11.12.01.04.900505.parquet')['SPS.BCTW.31931/Acquisition']['value'] # from HI SFTPRO MD\n",
    "cycle_intensities = data['bunchIntensity']\n",
    "\n",
    "Np = 1.91e10 # post-LS3 target intensity\n",
    "\n",
    "inty = cycle_intensities[10, :]\n",
    "intensities_SFTPRO = inty + np.roll(inty, int((2100+210)/5)) # 2 batches\n",
    "intensities_SFTPRO *= Np/np.mean(intensities_SFTPRO)         # changing mean intensity to target\n",
    "intensities_SFTPRO = np.interp(np.arange(0, len(inty), 1/5), np.arange(0, len(inty)), intensities_SFTPRO) # interpolate to SPS slots"
   ]
  },
  {
   "cell_type": "code",
   "execution_count": null,
   "id": "ab6ca657",
   "metadata": {},
   "outputs": [],
   "source": [
    "fillingScheme = intensities_SFTPRO > 1e9\n",
    "bl = 1.e-9                 # bunch length [s]\n",
    "Np = intensities_SFTPRO      # bunch intensity [protons/bunch]\n",
    "bunchShape = 'q-GAUSSIAN'    # bunch profile shape in time \n",
    "qvalue = 1                  # value of q parameter in the q-gaussian distribution\n",
    "fillMode = 'FLATTOP'        # Energy\n",
    "fmax = 3.5e9                  # Maximum frequency of the beam powerpowerSpectrum [Hz]\n",
    "\n",
    "beam_sftpro = bihc.Beam(Np=Np, bunchLength=bl, fillingScheme=fillingScheme,\n",
    "                bunchShape=bunchShape, qvalue=qvalue, \n",
    "                machine='SPS-SFTPRO', fillMode=fillMode, spectrum='numeric', fmax=fmax)\n",
    "\n",
    "Nb_sftpro = beam_sftpro.Np*sum(fillingScheme)"
   ]
  },
  {
   "cell_type": "markdown",
   "id": "53f42b9c",
   "metadata": {},
   "source": [
    "## Plot spectrums"
   ]
  },
  {
   "cell_type": "code",
   "execution_count": null,
   "id": "da602b00",
   "metadata": {},
   "outputs": [],
   "source": [
    "#         Plots\n",
    "# ----------------------\n",
    "# Plot impedance and spectrum \n",
    "fig, ax = plt.subplots(figsize=[10,7])\n",
    "\n",
    "l0, = ax.plot(beam_lhc25.spectrum[0]/1e9, beam_lhc25.spectrum[1]*Nb_lhc25, color='b', lw=2, alpha=0.8)\n",
    "l1, = ax.plot(beam_op.spectrum[0]/1e9, beam_op.spectrum[1]*Nb_op, color='r', lw=2, ls='-', alpha=0.8)\n",
    "l2, = ax.plot(beam_aw.spectrum[0]/1e9, beam_aw.spectrum[1]*Nb_aw, color='limegreen', lw=2, ls='--', alpha=0.8)\n",
    "l3, = ax.plot(beam_aw_ex.spectrum[0]/1e9, beam_aw_ex.spectrum[1]*Nb_aw_ex, color='g', lw=2, ls='-', alpha=0.8)\n",
    "l4, = ax.plot(beam_sftpro.spectrum[0]/1e9, beam_sftpro.spectrum[1]*Nb_sftpro, color='darkorange', lw=2, ls='-', alpha=0.5)\n",
    "\n",
    "ax.set_ylabel('Spectrum amplitude [p+]')\n",
    "ax.set_yscale('log')\n",
    "ax.set_xlabel('Frequency [GHz]')\n",
    "ax.set_xlim((0, fmax/1e9))\n",
    "ax.set_ylim(ymin=1) #ymax=1.1)\n",
    "\n",
    "ax.legend([l0, l1, l2, l3, l4], [f'$\\Lambda$ LHC25ns bl = 1.65 ns Np=2.3e11 p/b at FT', \n",
    "                         '$\\Lambda$ Operational bl = 1.65 ns Np=1.8e11 p/b ', \n",
    "                         '$\\Lambda$ AWAKE bl = 1.5 ns, Nt = 3e11 p, q-gaussian q=0.85',\n",
    "                         '$\\Lambda$ AWAKE bl = 0.8 ns, Nt = 3e11 p, q-gaussian q=0.6',\n",
    "                         '$\\Lambda$ SFTPRO bl = 1 ns, avg Np = 1.9e10 p/b, q-gaussian q=0.6'], \n",
    "                         loc=0, labelcolor='white')\n",
    "\n",
    "fig.tight_layout()"
   ]
  },
  {
   "cell_type": "markdown",
   "id": "3f35800a",
   "metadata": {},
   "source": [
    "## Power spectrum of all beams"
   ]
  },
  {
   "cell_type": "code",
   "execution_count": null,
   "id": "114edb53",
   "metadata": {},
   "outputs": [],
   "source": [
    "#         Plots\n",
    "# ----------------------\n",
    "# Plot impedance and spectrum \n",
    "fig, ax = plt.subplots(figsize=[10,7])\n",
    "\n",
    "l0, = ax.plot(beam_lhc25.powerSpectrum[0]/1e9, beam_lhc25.powerSpectrum[1]*Nb_lhc25, color='b', lw=2, alpha=0.8)\n",
    "l1, = ax.plot(beam_op.powerSpectrum[0]/1e9, beam_op.powerSpectrum[1]*Nb_op, color='r', lw=2, ls='-', alpha=0.8)\n",
    "l2, = ax.plot(beam_aw.powerSpectrum[0]/1e9, beam_aw.powerSpectrum[1]*Nb_aw, color='limegreen', lw=2, ls='--', alpha=0.8)\n",
    "l3, = ax.plot(beam_aw_ex.powerSpectrum[0]/1e9, beam_aw_ex.powerSpectrum[1]*Nb_aw_ex, color='g', lw=2, ls='-', alpha=0.8)\n",
    "l4, = ax.plot(beam_sftpro.powerSpectrum[0]/1e9, beam_sftpro.powerSpectrum[1]*Nb_sftpro, color='darkorange', lw=2, ls='-', alpha=0.5)\n",
    "\n",
    "ax.set_ylabel('Spectrum amplitude [p+]')\n",
    "ax.set_yscale('log')\n",
    "ax.set_xlabel('Frequency [GHz]')\n",
    "ax.set_xlim((0, fmax/1e9))\n",
    "ax.set_ylim(ymin=1) #ymax=1.1)\n",
    "\n",
    "ax.legend([l0, l1, l2, l3, l4], [f'$\\Lambda^2$ LHC25ns bl = 1.65 ns Np=2.3e11 p/b at FT', \n",
    "                         '$\\Lambda^2$ Operational bl = 1.65 ns Np=1.8e11 p/b ', \n",
    "                         '$\\Lambda^2$ AWAKE bl = 1.5 ns, Nt = 3e11 p, q-gaussian q=0.85',\n",
    "                         '$\\Lambda^2$ AWAKE bl = 0.8 ns, Nt = 3e11 p, q-gaussian q=0.6',\n",
    "                         '$\\Lambda^2$ SFTPRO bl = 1 ns, avg Np = 1.9e10 p/b, q-gaussian q=0.6'], \n",
    "                         loc=0, labelcolor='white')\n",
    "\n",
    "fig.tight_layout()"
   ]
  },
  {
   "cell_type": "markdown",
   "id": "3d4adb4b",
   "metadata": {},
   "source": []
  },
  {
   "cell_type": "markdown",
   "id": "d6bdd45b",
   "metadata": {},
   "source": [
    "## Adding impedance"
   ]
  },
  {
   "cell_type": "code",
   "execution_count": null,
   "id": "1c0c6ce3",
   "metadata": {},
   "outputs": [],
   "source": [
    "# Using resonator at 1.46 GHz\n",
    "Z = bihc.Impedance(beam_lhc25.spectrum[0])\n",
    "Z.getResonatorImpedance(4e3,1e3,1.46e9)\n",
    "\n",
    "plt.close()\n",
    "plt.figure(dpi=160, figsize=[6, 5])\n",
    "plt.plot(Z.f, Z.Zr)\n",
    "plt.xlim(0, 3.5e9)"
   ]
  },
  {
   "cell_type": "code",
   "execution_count": null,
   "id": "ec5dd6ec",
   "metadata": {},
   "outputs": [],
   "source": [
    "#------- Ploss calculation with LHC25----------\n",
    "print('Ploss with LHC25NS flattop')\n",
    "print('-----------------')\n",
    "# Get unshifted ploss \n",
    "ploss, ploss_density = beam_lhc25.getPloss(Z) \n",
    "print(f'Dissipated power (no-shift): {ploss} W')\n",
    "\n",
    "# Get min/max power loss with rigid shift\n",
    "shift = 40e6  # distance between shift steps [Hz]\n",
    "shifts, power = beam_lhc25.getShiftedPloss(Z, shift=shift)\n",
    "\n",
    "print(f'Minimum dissipated power: P_min = {np.min(power)} W, at step {shifts[np.argmin(power)]}')\n",
    "print(f'Maximum dissipated power: P_max = {np.max(power)} W, at step {shifts[np.argmax(power)]}')\n",
    "print(f'Average dissipated power: P_mean = {np.mean(power)} W')\n",
    "\n",
    "# Get unshifted ploss max\n",
    "ploss_max, ploss_density_max = beam_lhc25.getPloss(beam_lhc25.Zmax) "
   ]
  },
  {
   "cell_type": "code",
   "execution_count": null,
   "id": "a116b9ee",
   "metadata": {},
   "outputs": [],
   "source": [
    "#------- Ploss calculation after bunch rotation ----------\n",
    "print('Ploss with AWAKE before bunch rotation')\n",
    "print('-----------------')\n",
    "# Get unshifted ploss \n",
    "ploss_aw, ploss_density_aw = beam_aw.getPloss(Z) \n",
    "print(f'Dissipated power (no-shift): {ploss_aw} W')\n",
    "\n",
    "# Get min/max power loss with rigid shift\n",
    "shift = 40e6  # distance between shift steps [Hz]\n",
    "shifts, power_aw = beam_aw.getShiftedPloss(Z, shift=shift)\n",
    "\n",
    "print(f'Minimum dissipated power: P_min = {np.min(power_aw)} W, at step {shifts[np.argmin(power_aw)]}')\n",
    "print(f'Maximum dissipated power: P_max = {np.max(power_aw)} W, at step {shifts[np.argmax(power_aw)]}')\n",
    "print(f'Average dissipated power: P_mean = {np.mean(power_aw)} W')\n",
    "\n",
    "# Get unshifted ploss max\n",
    "ploss_max_aw, ploss_density_max_aw = beam_aw.getPloss(beam_aw.Zmax) "
   ]
  },
  {
   "cell_type": "code",
   "execution_count": null,
   "id": "37ac25c6",
   "metadata": {},
   "outputs": [],
   "source": [
    "#------- Ploss calculation after bunch rotation ----------\n",
    "print('Ploss with AWAKE after bunch rotation')\n",
    "print('-----------------')\n",
    "# Get unshifted ploss \n",
    "ploss_ex, ploss_density_ex = beam_aw_ex.getPloss(Z) \n",
    "print(f'Dissipated power (no-shift): {ploss_ex} W')\n",
    "\n",
    "# Get min/max power loss with rigid shift\n",
    "shift = 40e6  # distance between shift steps [Hz]\n",
    "shifts, power_ex = beam_aw_ex.getShiftedPloss(Z, shift=shift)\n",
    "\n",
    "print(f'Minimum dissipated power: P_min = {np.min(power_ex)} W, at step {shifts[np.argmin(power_ex)]}')\n",
    "print(f'Maximum dissipated power: P_max = {np.max(power_ex)} W, at step {shifts[np.argmax(power_ex)]}')\n",
    "print(f'Average dissipated power: P_mean = {np.mean(power_ex)} W')\n",
    "\n",
    "# Get unshifted ploss max\n",
    "ploss_max_ex, ploss_density_max_ex = beam_aw_ex.getPloss(beam_aw_ex.Zmax) "
   ]
  },
  {
   "cell_type": "code",
   "execution_count": null,
   "id": "7f8935c8",
   "metadata": {},
   "outputs": [],
   "source": [
    "print('Ploss with OPERATIONAL')\n",
    "print('-----------------')\n",
    "# Get unshifted ploss \n",
    "ploss_op, ploss_density_op = beam_op.getPloss(Z) \n",
    "print(f'Dissipated power (no-shift): {ploss_op} W')\n",
    "\n",
    "# Get min/max power loss with rigid shift\n",
    "shift = 40e6  # distance between shift steps [Hz]\n",
    "shifts, power_op = beam_op.getShiftedPloss(Z, shift=shift)\n",
    "\n",
    "print(f'Minimum dissipated power: P_min = {np.min(power_op)} W, at step {shifts[np.argmin(power_op)]}')\n",
    "print(f'Maximum dissipated power: P_max = {np.max(power_op)} W, at step {shifts[np.argmax(power_op)]}')\n",
    "print(f'Average dissipated power: P_mean = {np.mean(power_op)} W')\n",
    "\n",
    "# Get unshifted ploss max\n",
    "ploss_max_op, ploss_density_max_op = beam_op.getPloss(beam_op.Zmax) "
   ]
  },
  {
   "cell_type": "code",
   "execution_count": null,
   "id": "406ed9b5",
   "metadata": {},
   "outputs": [],
   "source": [
    "print('Ploss with SFTPRO')\n",
    "print('-----------------')\n",
    "# Get unshifted ploss \n",
    "ploss_sftpro, ploss_density_sftpro = beam_sftpro.getPloss(Z) \n",
    "print(f'Dissipated power (no-shift): {ploss_sftpro} W')\n",
    "\n",
    "# Get min/max power loss with rigid shift\n",
    "shift = 40e6  # distance between shift steps [Hz]\n",
    "shifts, power_sftpro = beam_sftpro.getShiftedPloss(Z, shift=shift)\n",
    "\n",
    "print(f'Minimum dissipated power: P_min = {np.min(power_sftpro)} W, at step {shifts[np.argmin(power_sftpro)]}')\n",
    "print(f'Maximum dissipated power: P_max = {np.max(power_sftpro)} W, at step {shifts[np.argmax(power_sftpro)]}')\n",
    "print(f'Average dissipated power: P_mean = {np.mean(power_sftpro)} W')\n",
    "\n",
    "# Get unshifted ploss max\n",
    "ploss_max_sftpro, ploss_density_max_sftpro = beam_sftpro.getPloss(beam_sftpro.Zmax) "
   ]
  },
  {
   "cell_type": "markdown",
   "id": "6bd88140",
   "metadata": {},
   "source": [
    "### Plot Power loss by frequency results:"
   ]
  },
  {
   "cell_type": "code",
   "execution_count": null,
   "id": "2680e10a",
   "metadata": {},
   "outputs": [],
   "source": [
    "%matplotlib inline\n",
    "#         Plots\n",
    "# ----------------------\n",
    "# Plot impedance and spectrum \n",
    "fig, ax = plt.subplots(figsize=[9,6])\n",
    "axx = ax.twinx()\n",
    "\n",
    "l0, = ax.plot(np.linspace(0, Z.f.max(), len(ploss_density))/1e9, ploss_density*1e3, color='darkorange', lw=2, alpha=0.8)\n",
    "l1, = ax.plot(np.linspace(0, Z.f.max(), len(ploss_density_op))/1e9, ploss_density_op*1e3, color='g', lw=2, ls='-', alpha=0.8)\n",
    "l2, = ax.plot(np.linspace(0, Z.f.max(), len(ploss_density_aw))/1e9, ploss_density_aw*1e3, color='limegreen', lw=2, ls='-', alpha=0.6)\n",
    "l3, = ax.plot(np.linspace(0, Z.f.max(), len(ploss_density_ex))/1e9, ploss_density_ex*1e3, color='r', lw=2, ls='-', alpha=0.8)\n",
    "l4, = ax.plot(np.linspace(0, Z.f.max(), len(ploss_density_sftpro))/1e9, ploss_density_sftpro*1e3, color='b', lw=2, ls='-', alpha=0.8)\n",
    "\n",
    "ax.set_ylabel('Power by frequency [mW]', color='k')\n",
    "ax.set_yscale('log')\n",
    "ax.set_xlabel('Frequency [Hz]')\n",
    "ax.set_xlim((0, fmax/1e9))\n",
    "ax.set_ylim(ymin=1e-5, ymax=2*1000)\n",
    "\n",
    "l00, = axx.plot(Z.f/1e9, Z.Zr, color='k', alpha=0.3, lw=1.5)\n",
    "axx.set_ylabel(r'Longitudinal Impedance Re(Z) [$\\Omega$]', color='k')\n",
    "axx.set_ylim(ymin=1e-0, ymax=4200)\n",
    "#axx.set_yscale('log')\n",
    "axx.legend([l0, l1, l2, l3, l4, l00], [f'Power loss spectrum for LHC25ns @Flat Top', \n",
    "                          'Power loss spectrum for LHC3 @Flat Top', \n",
    "                          'Power loss spectrum for AWAKE bl=1.5ns', \n",
    "                          'Power loss spectrum for AWAKE bl=0.8ns',\n",
    "                          'Power loss spectrum for SFTPRO bl=1ns',\n",
    "                          'Resonator at 1.46 GHz impedance $Re(Z)$'], \n",
    "                           loc='center', bbox_to_anchor=(0.5, -0.25), ncol=2,\n",
    "                           frameon=True, edgecolor='k')\n",
    "'''\n",
    "fig.text(0.5, 0.8, r'$P_{loss}$ LHC3: '+f'{round(np.mean(power_op),1)} W', color='green')\n",
    "fig.text(0.5, 0.75, r'$P_{loss}$ SFTPRO: '+f'{round(np.mean(power_sftpro),1)} W', color='blue')\n",
    "fig.text(0.5, 0.7, r'$P_{loss}$ AWAKE 1.5 ns: '+f'{round(np.mean(power_aw), 1)} W', color='limegreen')\n",
    "fig.text(0.5, 0.65, r'$P_{loss}$ AWAKE 0.7 ns: '+f'{round(np.mean(power_ex), 1)} W', color='red')\n",
    "fig.text(0.5, 0.6, r'$P_{loss}$ LHC25ns: '+f'{round(np.mean(power),1)} W', color='darkorange')\n",
    "fig.savefig('Ploss_AWAKEvsLHC25nsvsLHC3.png')\n",
    "'''\n",
    "\n",
    "fig.text(0.5, 0.8, r'$P_{loss}$ LHC3: '+f'{round(np.mean(power_op)*1e3,1)} mW', color='green')\n",
    "fig.text(0.5, 0.75, r'$P_{loss}$ SFTPRO: '+f'{round(np.mean(power_sftpro)*1e3,1)} mW', color='blue')\n",
    "fig.text(0.5, 0.7, r'$P_{loss}$ AWAKE 1.5 ns: '+f'{round(np.mean(power_aw)*1e3, 1)} mW', color='limegreen')\n",
    "fig.text(0.5, 0.65, r'$P_{loss}$ AWAKE 0.7 ns: '+f'{round(np.mean(power_ex)*1e3, 1)} mW', color='red')\n",
    "fig.text(0.5, 0.6, r'$P_{loss}$ LHC25ns: '+f'{round(np.mean(power)*1e3,1)} mW', color='darkorange')\n",
    "\n",
    "fig.tight_layout()\n",
    "fig.savefig('Ploss_SPSbeams_GHzResonance.png')"
   ]
  }
 ],
 "metadata": {
  "kernelspec": {
   "display_name": "wakis-env",
   "language": "python",
   "name": "python3"
  },
  "language_info": {
   "name": "python",
   "version": "3.11.11"
  }
 },
 "nbformat": 4,
 "nbformat_minor": 5
}
